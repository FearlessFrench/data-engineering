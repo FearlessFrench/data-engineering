{
 "cells": [
  {
   "cell_type": "markdown",
   "metadata": {
    "id": "ocefQLJIUuuk"
   },
   "source": [
    "# **Workshop 5: Data Quality**\n",
    "**คำสั่ง**\n",
    "\n",
    "1.   ศึกษาวิธีการตรวจสอบคุณภาพของข้อมูลชุดข้อมูล transaction data \n",
    "2.   ทำการตรวจสอบคุณภาพของข้อมูล ชุดข้อมูล customer data  โดยทำปฏิบัติการแต่ละข้อ\n",
    "3.   ตั้งชื่อไฟล์ python notebook นี้ในรูปแบบ Lab_05_XXXXXXXXX.ipynb โดย XXXXXXXXX คือ รหัสนักศึกษา\n",
    "4.   ทำการดาวน์โหลดและส่งไฟล์ Lab_05_XXXXXXXXX.ipynb ที่เว็บไซต์ http://hw.cs.science.cmu.ac.th "
   ]
  },
  {
   "cell_type": "code",
   "execution_count": 1,
   "metadata": {
    "id": "paLTi4i6UuAN"
   },
   "outputs": [],
   "source": [
    "import pandas as pd\n",
    "import numpy as np"
   ]
  },
  {
   "cell_type": "code",
   "execution_count": 2,
   "metadata": {
    "id": "vP2JKu8tVa8k"
   },
   "outputs": [
    {
     "data": {
      "text/html": [
       "<div>\n",
       "<style scoped>\n",
       "    .dataframe tbody tr th:only-of-type {\n",
       "        vertical-align: middle;\n",
       "    }\n",
       "\n",
       "    .dataframe tbody tr th {\n",
       "        vertical-align: top;\n",
       "    }\n",
       "\n",
       "    .dataframe thead th {\n",
       "        text-align: right;\n",
       "    }\n",
       "</style>\n",
       "<table border=\"1\" class=\"dataframe\">\n",
       "  <thead>\n",
       "    <tr style=\"text-align: right;\">\n",
       "      <th></th>\n",
       "      <th>txn_id</th>\n",
       "      <th>cust_id</th>\n",
       "      <th>price</th>\n",
       "      <th>process_date</th>\n",
       "    </tr>\n",
       "  </thead>\n",
       "  <tbody>\n",
       "    <tr>\n",
       "      <th>0</th>\n",
       "      <td>1</td>\n",
       "      <td>v</td>\n",
       "      <td>89.0</td>\n",
       "      <td>1/5/2021</td>\n",
       "    </tr>\n",
       "    <tr>\n",
       "      <th>1</th>\n",
       "      <td>2</td>\n",
       "      <td>y</td>\n",
       "      <td>60.0</td>\n",
       "      <td>1/5/2021</td>\n",
       "    </tr>\n",
       "    <tr>\n",
       "      <th>2</th>\n",
       "      <td>3</td>\n",
       "      <td>m</td>\n",
       "      <td>55.0</td>\n",
       "      <td>1/5/2021</td>\n",
       "    </tr>\n",
       "    <tr>\n",
       "      <th>3</th>\n",
       "      <td>4</td>\n",
       "      <td>s</td>\n",
       "      <td>NaN</td>\n",
       "      <td>1/5/2021</td>\n",
       "    </tr>\n",
       "    <tr>\n",
       "      <th>4</th>\n",
       "      <td>5</td>\n",
       "      <td>z</td>\n",
       "      <td>50.0</td>\n",
       "      <td>1/5/2021</td>\n",
       "    </tr>\n",
       "    <tr>\n",
       "      <th>5</th>\n",
       "      <td>6</td>\n",
       "      <td>s</td>\n",
       "      <td>41.0</td>\n",
       "      <td>2/5/2021</td>\n",
       "    </tr>\n",
       "    <tr>\n",
       "      <th>6</th>\n",
       "      <td>7</td>\n",
       "      <td>s</td>\n",
       "      <td>NaN</td>\n",
       "      <td>15/5/2021</td>\n",
       "    </tr>\n",
       "    <tr>\n",
       "      <th>7</th>\n",
       "      <td>8</td>\n",
       "      <td>e</td>\n",
       "      <td>23.0</td>\n",
       "      <td>1/5/2021</td>\n",
       "    </tr>\n",
       "    <tr>\n",
       "      <th>8</th>\n",
       "      <td>9</td>\n",
       "      <td>n</td>\n",
       "      <td>12.0</td>\n",
       "      <td>1/5/2021</td>\n",
       "    </tr>\n",
       "    <tr>\n",
       "      <th>9</th>\n",
       "      <td>10</td>\n",
       "      <td>x</td>\n",
       "      <td>87.0</td>\n",
       "      <td>1/5/2021</td>\n",
       "    </tr>\n",
       "  </tbody>\n",
       "</table>\n",
       "</div>"
      ],
      "text/plain": [
       "   txn_id cust_id  price process_date\n",
       "0       1       v   89.0     1/5/2021\n",
       "1       2       y   60.0     1/5/2021\n",
       "2       3       m   55.0     1/5/2021\n",
       "3       4       s    NaN     1/5/2021\n",
       "4       5       z   50.0     1/5/2021\n",
       "5       6       s   41.0     2/5/2021\n",
       "6       7       s    NaN    15/5/2021\n",
       "7       8       e   23.0     1/5/2021\n",
       "8       9       n   12.0     1/5/2021\n",
       "9      10       x   87.0     1/5/2021"
      ]
     },
     "execution_count": 2,
     "metadata": {},
     "output_type": "execute_result"
    }
   ],
   "source": [
    "# if file is not in the same folder >>> \"C:\\\\Users\\\\CSB307\\\\Desktop\\\\Lab_05\\\\transaction_data.csv\"\n",
    "transaction_data = pd.read_csv(\"transaction_data.csv\", na_values=-999)\n",
    "transaction_data"
   ]
  },
  {
   "cell_type": "code",
   "execution_count": 3,
   "metadata": {},
   "outputs": [
    {
     "data": {
      "text/plain": [
       "txn_id            int64\n",
       "cust_id          object\n",
       "price           float64\n",
       "process_date     object\n",
       "dtype: object"
      ]
     },
     "execution_count": 3,
     "metadata": {},
     "output_type": "execute_result"
    }
   ],
   "source": [
    "# check data type\n",
    "transaction_data.dtypes"
   ]
  },
  {
   "cell_type": "code",
   "execution_count": 5,
   "metadata": {},
   "outputs": [
    {
     "name": "stdout",
     "output_type": "stream",
     "text": [
      "Total rows = 10\n",
      "Total columns = 4\n"
     ]
    }
   ],
   "source": [
    "print(\"Total rows =\", transaction_data.shape[0])\n",
    "print(\"Total columns =\", transaction_data.shape[1])"
   ]
  },
  {
   "cell_type": "markdown",
   "metadata": {
    "id": "BBRgUzfhX54H"
   },
   "source": [
    "# Missing values"
   ]
  },
  {
   "cell_type": "code",
   "execution_count": 6,
   "metadata": {
    "id": "JGay65dtX5O5"
   },
   "outputs": [
    {
     "name": "stdout",
     "output_type": "stream",
     "text": [
      "   txn_id  cust_id  price  process_date\n",
      "0   False    False  False         False\n",
      "1   False    False  False         False\n",
      "2   False    False  False         False\n",
      "3   False    False   True         False\n",
      "4   False    False  False         False\n",
      "5   False    False  False         False\n",
      "6   False    False   True         False\n",
      "7   False    False  False         False\n",
      "8   False    False  False         False\n",
      "9   False    False  False         False\n"
     ]
    }
   ],
   "source": [
    "# detect missing values\n",
    "missingValues = transaction_data.isna() # มีข้อมูลที่เป็นช่องว่างมั้ย? การที่ข้อมูลระบุว่าเป็น NaN อาจหมายความว่าแหล่งข้อมูลจงใจให้มันเป็นช่องว่าง\n",
    "print(missingValues)"
   ]
  },
  {
   "cell_type": "code",
   "execution_count": 7,
   "metadata": {},
   "outputs": [
    {
     "data": {
      "text/html": [
       "<div>\n",
       "<style scoped>\n",
       "    .dataframe tbody tr th:only-of-type {\n",
       "        vertical-align: middle;\n",
       "    }\n",
       "\n",
       "    .dataframe tbody tr th {\n",
       "        vertical-align: top;\n",
       "    }\n",
       "\n",
       "    .dataframe thead th {\n",
       "        text-align: right;\n",
       "    }\n",
       "</style>\n",
       "<table border=\"1\" class=\"dataframe\">\n",
       "  <thead>\n",
       "    <tr style=\"text-align: right;\">\n",
       "      <th></th>\n",
       "      <th>txn_id</th>\n",
       "      <th>cust_id</th>\n",
       "      <th>price</th>\n",
       "      <th>process_date</th>\n",
       "    </tr>\n",
       "  </thead>\n",
       "  <tbody>\n",
       "    <tr>\n",
       "      <th>0</th>\n",
       "      <td>False</td>\n",
       "      <td>False</td>\n",
       "      <td>False</td>\n",
       "      <td>False</td>\n",
       "    </tr>\n",
       "    <tr>\n",
       "      <th>1</th>\n",
       "      <td>False</td>\n",
       "      <td>False</td>\n",
       "      <td>False</td>\n",
       "      <td>False</td>\n",
       "    </tr>\n",
       "    <tr>\n",
       "      <th>2</th>\n",
       "      <td>False</td>\n",
       "      <td>False</td>\n",
       "      <td>False</td>\n",
       "      <td>False</td>\n",
       "    </tr>\n",
       "    <tr>\n",
       "      <th>3</th>\n",
       "      <td>False</td>\n",
       "      <td>False</td>\n",
       "      <td>True</td>\n",
       "      <td>False</td>\n",
       "    </tr>\n",
       "    <tr>\n",
       "      <th>4</th>\n",
       "      <td>False</td>\n",
       "      <td>False</td>\n",
       "      <td>False</td>\n",
       "      <td>False</td>\n",
       "    </tr>\n",
       "    <tr>\n",
       "      <th>5</th>\n",
       "      <td>False</td>\n",
       "      <td>False</td>\n",
       "      <td>False</td>\n",
       "      <td>False</td>\n",
       "    </tr>\n",
       "    <tr>\n",
       "      <th>6</th>\n",
       "      <td>False</td>\n",
       "      <td>False</td>\n",
       "      <td>True</td>\n",
       "      <td>False</td>\n",
       "    </tr>\n",
       "    <tr>\n",
       "      <th>7</th>\n",
       "      <td>False</td>\n",
       "      <td>False</td>\n",
       "      <td>False</td>\n",
       "      <td>False</td>\n",
       "    </tr>\n",
       "    <tr>\n",
       "      <th>8</th>\n",
       "      <td>False</td>\n",
       "      <td>False</td>\n",
       "      <td>False</td>\n",
       "      <td>False</td>\n",
       "    </tr>\n",
       "    <tr>\n",
       "      <th>9</th>\n",
       "      <td>False</td>\n",
       "      <td>False</td>\n",
       "      <td>False</td>\n",
       "      <td>False</td>\n",
       "    </tr>\n",
       "  </tbody>\n",
       "</table>\n",
       "</div>"
      ],
      "text/plain": [
       "   txn_id  cust_id  price  process_date\n",
       "0   False    False  False         False\n",
       "1   False    False  False         False\n",
       "2   False    False  False         False\n",
       "3   False    False   True         False\n",
       "4   False    False  False         False\n",
       "5   False    False  False         False\n",
       "6   False    False   True         False\n",
       "7   False    False  False         False\n",
       "8   False    False  False         False\n",
       "9   False    False  False         False"
      ]
     },
     "execution_count": 7,
     "metadata": {},
     "output_type": "execute_result"
    }
   ],
   "source": [
    "missingValues # เจ้าตัวแปรนี้เป็น DataFrame"
   ]
  },
  {
   "cell_type": "code",
   "execution_count": 8,
   "metadata": {
    "id": "exSfVGwrbRsb"
   },
   "outputs": [
    {
     "name": "stdout",
     "output_type": "stream",
     "text": [
      "2\n"
     ]
    }
   ],
   "source": [
    "# count the number of missing data\n",
    "num_missing = missingValues.values.sum() # ทำการนับจำนวนค่าสูญหาย\n",
    "print(num_missing)"
   ]
  },
  {
   "cell_type": "code",
   "execution_count": 9,
   "metadata": {
    "id": "W3ZrJYSabKOW"
   },
   "outputs": [
    {
     "name": "stdout",
     "output_type": "stream",
     "text": [
      "0    0\n",
      "1    0\n",
      "2    0\n",
      "3    1\n",
      "4    0\n",
      "5    0\n",
      "6    1\n",
      "7    0\n",
      "8    0\n",
      "9    0\n",
      "dtype: int64\n",
      "There are 2 rows contain missing values\n"
     ]
    }
   ],
   "source": [
    "# count the number of rows having missing data\n",
    "row_missing = missingValues.sum(axis=1)\n",
    "print(row_missing)\n",
    "num_row_missing = np.count_nonzero(row_missing)\n",
    "print(\"There are %d rows contain missing values\"%(num_row_missing))"
   ]
  },
  {
   "cell_type": "code",
   "execution_count": 10,
   "metadata": {
    "id": "5DO60alSY7it"
   },
   "outputs": [
    {
     "name": "stdout",
     "output_type": "stream",
     "text": [
      "txn_id          0\n",
      "cust_id         0\n",
      "price           2\n",
      "process_date    0\n",
      "dtype: int64\n",
      "There are 1 columns contain missing values\n"
     ]
    }
   ],
   "source": [
    "# count the number of columns having missing data\n",
    "col_missing = missingValues.sum()\n",
    "print(col_missing)\n",
    "num_col_missing = np.count_nonzero(col_missing)\n",
    "print(\"There are %d columns contain missing values\"%(num_col_missing))"
   ]
  },
  {
   "cell_type": "markdown",
   "metadata": {
    "id": "ugj-uSPgqg3I"
   },
   "source": [
    "# Duplicated records"
   ]
  },
  {
   "cell_type": "code",
   "execution_count": 11,
   "metadata": {
    "id": "F2iGEoujr3PI"
   },
   "outputs": [
    {
     "data": {
      "text/html": [
       "<div>\n",
       "<style scoped>\n",
       "    .dataframe tbody tr th:only-of-type {\n",
       "        vertical-align: middle;\n",
       "    }\n",
       "\n",
       "    .dataframe tbody tr th {\n",
       "        vertical-align: top;\n",
       "    }\n",
       "\n",
       "    .dataframe thead th {\n",
       "        text-align: right;\n",
       "    }\n",
       "</style>\n",
       "<table border=\"1\" class=\"dataframe\">\n",
       "  <thead>\n",
       "    <tr style=\"text-align: right;\">\n",
       "      <th></th>\n",
       "      <th>txn_id</th>\n",
       "      <th>cust_id</th>\n",
       "      <th>price</th>\n",
       "      <th>process_date</th>\n",
       "    </tr>\n",
       "  </thead>\n",
       "  <tbody>\n",
       "    <tr>\n",
       "      <th>5</th>\n",
       "      <td>6</td>\n",
       "      <td>s</td>\n",
       "      <td>41.0</td>\n",
       "      <td>2/5/2021</td>\n",
       "    </tr>\n",
       "    <tr>\n",
       "      <th>6</th>\n",
       "      <td>7</td>\n",
       "      <td>s</td>\n",
       "      <td>NaN</td>\n",
       "      <td>15/5/2021</td>\n",
       "    </tr>\n",
       "  </tbody>\n",
       "</table>\n",
       "</div>"
      ],
      "text/plain": [
       "   txn_id cust_id  price process_date\n",
       "5       6       s   41.0     2/5/2021\n",
       "6       7       s    NaN    15/5/2021"
      ]
     },
     "execution_count": 11,
     "metadata": {},
     "output_type": "execute_result"
    }
   ],
   "source": [
    "transaction_data[transaction_data.duplicated(['cust_id'])]"
   ]
  },
  {
   "cell_type": "code",
   "execution_count": 12,
   "metadata": {
    "id": "HGIb-JeLsdIh"
   },
   "outputs": [
    {
     "data": {
      "text/html": [
       "<div>\n",
       "<style scoped>\n",
       "    .dataframe tbody tr th:only-of-type {\n",
       "        vertical-align: middle;\n",
       "    }\n",
       "\n",
       "    .dataframe tbody tr th {\n",
       "        vertical-align: top;\n",
       "    }\n",
       "\n",
       "    .dataframe thead th {\n",
       "        text-align: right;\n",
       "    }\n",
       "</style>\n",
       "<table border=\"1\" class=\"dataframe\">\n",
       "  <thead>\n",
       "    <tr style=\"text-align: right;\">\n",
       "      <th></th>\n",
       "      <th>txn_id</th>\n",
       "      <th>cust_id</th>\n",
       "      <th>price</th>\n",
       "      <th>process_date</th>\n",
       "    </tr>\n",
       "  </thead>\n",
       "  <tbody>\n",
       "  </tbody>\n",
       "</table>\n",
       "</div>"
      ],
      "text/plain": [
       "Empty DataFrame\n",
       "Columns: [txn_id, cust_id, price, process_date]\n",
       "Index: []"
      ]
     },
     "execution_count": 12,
     "metadata": {},
     "output_type": "execute_result"
    }
   ],
   "source": [
    "transaction_data[transaction_data.duplicated(['txn_id'])]"
   ]
  },
  {
   "cell_type": "code",
   "execution_count": 13,
   "metadata": {
    "id": "DE-7GqoGshwJ"
   },
   "outputs": [
    {
     "data": {
      "text/html": [
       "<div>\n",
       "<style scoped>\n",
       "    .dataframe tbody tr th:only-of-type {\n",
       "        vertical-align: middle;\n",
       "    }\n",
       "\n",
       "    .dataframe tbody tr th {\n",
       "        vertical-align: top;\n",
       "    }\n",
       "\n",
       "    .dataframe thead th {\n",
       "        text-align: right;\n",
       "    }\n",
       "</style>\n",
       "<table border=\"1\" class=\"dataframe\">\n",
       "  <thead>\n",
       "    <tr style=\"text-align: right;\">\n",
       "      <th></th>\n",
       "      <th>txn_id</th>\n",
       "      <th>cust_id</th>\n",
       "      <th>price</th>\n",
       "      <th>process_date</th>\n",
       "    </tr>\n",
       "  </thead>\n",
       "  <tbody>\n",
       "  </tbody>\n",
       "</table>\n",
       "</div>"
      ],
      "text/plain": [
       "Empty DataFrame\n",
       "Columns: [txn_id, cust_id, price, process_date]\n",
       "Index: []"
      ]
     },
     "execution_count": 13,
     "metadata": {},
     "output_type": "execute_result"
    }
   ],
   "source": [
    "transaction_data[transaction_data.duplicated(['txn_id','cust_id'])]"
   ]
  },
  {
   "cell_type": "markdown",
   "metadata": {
    "id": "H19ZkSPkVrnZ"
   },
   "source": [
    "ปฏิบัติการข้อ 1) จงอ่านชุดข้อมูล Customer Data จากไฟล์ customer_data.csv โดยเก็บไว้ในตัวแปล customer_data (ข้อมูลสูญหาย ถูกแทนด้วยช่องว่าง)"
   ]
  },
  {
   "cell_type": "code",
   "execution_count": 23,
   "metadata": {
    "id": "JFCIQR7oVlQi"
   },
   "outputs": [
    {
     "data": {
      "text/html": [
       "<div>\n",
       "<style scoped>\n",
       "    .dataframe tbody tr th:only-of-type {\n",
       "        vertical-align: middle;\n",
       "    }\n",
       "\n",
       "    .dataframe tbody tr th {\n",
       "        vertical-align: top;\n",
       "    }\n",
       "\n",
       "    .dataframe thead th {\n",
       "        text-align: right;\n",
       "    }\n",
       "</style>\n",
       "<table border=\"1\" class=\"dataframe\">\n",
       "  <thead>\n",
       "    <tr style=\"text-align: right;\">\n",
       "      <th></th>\n",
       "      <th>cust_id</th>\n",
       "      <th>age</th>\n",
       "      <th>wealth_segment</th>\n",
       "      <th>process_date</th>\n",
       "    </tr>\n",
       "  </thead>\n",
       "  <tbody>\n",
       "    <tr>\n",
       "      <th>0</th>\n",
       "      <td>e</td>\n",
       "      <td>44.0</td>\n",
       "      <td>NaN</td>\n",
       "      <td>2020-01-05</td>\n",
       "    </tr>\n",
       "    <tr>\n",
       "      <th>1</th>\n",
       "      <td>m</td>\n",
       "      <td>30.0</td>\n",
       "      <td>medium</td>\n",
       "      <td>2020-01-05</td>\n",
       "    </tr>\n",
       "    <tr>\n",
       "      <th>2</th>\n",
       "      <td>n</td>\n",
       "      <td>29.0</td>\n",
       "      <td>poor</td>\n",
       "      <td>2020-01-05</td>\n",
       "    </tr>\n",
       "    <tr>\n",
       "      <th>3</th>\n",
       "      <td>s</td>\n",
       "      <td>64.0</td>\n",
       "      <td>rich</td>\n",
       "      <td>2020-01-05</td>\n",
       "    </tr>\n",
       "    <tr>\n",
       "      <th>4</th>\n",
       "      <td>v</td>\n",
       "      <td>NaN</td>\n",
       "      <td>medium</td>\n",
       "      <td>2020-01-05</td>\n",
       "    </tr>\n",
       "    <tr>\n",
       "      <th>5</th>\n",
       "      <td>x</td>\n",
       "      <td>40.0</td>\n",
       "      <td>poor</td>\n",
       "      <td>2020-01-05</td>\n",
       "    </tr>\n",
       "    <tr>\n",
       "      <th>6</th>\n",
       "      <td>y</td>\n",
       "      <td>41.0</td>\n",
       "      <td>rich</td>\n",
       "      <td>2020-01-05</td>\n",
       "    </tr>\n",
       "    <tr>\n",
       "      <th>7</th>\n",
       "      <td>z</td>\n",
       "      <td>43.0</td>\n",
       "      <td>rich</td>\n",
       "      <td>2020-01-05</td>\n",
       "    </tr>\n",
       "    <tr>\n",
       "      <th>8</th>\n",
       "      <td>s</td>\n",
       "      <td>-12.0</td>\n",
       "      <td>rich</td>\n",
       "      <td>2020-01-05</td>\n",
       "    </tr>\n",
       "    <tr>\n",
       "      <th>9</th>\n",
       "      <td>z</td>\n",
       "      <td>54.0</td>\n",
       "      <td>rich</td>\n",
       "      <td>2021-01-05</td>\n",
       "    </tr>\n",
       "  </tbody>\n",
       "</table>\n",
       "</div>"
      ],
      "text/plain": [
       "  cust_id   age wealth_segment process_date\n",
       "0       e  44.0            NaN   2020-01-05\n",
       "1       m  30.0         medium   2020-01-05\n",
       "2       n  29.0           poor   2020-01-05\n",
       "3       s  64.0           rich   2020-01-05\n",
       "4       v   NaN         medium   2020-01-05\n",
       "5       x  40.0           poor   2020-01-05\n",
       "6       y  41.0           rich   2020-01-05\n",
       "7       z  43.0           rich   2020-01-05\n",
       "8       s -12.0           rich   2020-01-05\n",
       "9       z  54.0           rich   2021-01-05"
      ]
     },
     "execution_count": 23,
     "metadata": {},
     "output_type": "execute_result"
    }
   ],
   "source": [
    "# Answer here!\n",
    "customer_data = pd.read_csv(\"customer_data.csv\", na_values=\"\")\n",
    "customer_data"
   ]
  },
  {
   "cell_type": "markdown",
   "metadata": {
    "id": "WJw1HTMVuTO7"
   },
   "source": [
    "ปฏิบัติการข้อ 2) จงนับจำนวนข้อมูลสูญหายทั้งหมดในชุดข้อมูล Customer Data "
   ]
  },
  {
   "cell_type": "code",
   "execution_count": 25,
   "metadata": {
    "id": "DBe_TA2DufOi"
   },
   "outputs": [
    {
     "name": "stdout",
     "output_type": "stream",
     "text": [
      "   cust_id    age  wealth_segment  process_date\n",
      "0    False  False            True         False\n",
      "1    False  False           False         False\n",
      "2    False  False           False         False\n",
      "3    False  False           False         False\n",
      "4    False   True           False         False\n",
      "5    False  False           False         False\n",
      "6    False  False           False         False\n",
      "7    False  False           False         False\n",
      "8    False  False           False         False\n",
      "9    False  False           False         False\n",
      "Total Missing Value = 2\n"
     ]
    }
   ],
   "source": [
    "# Answer here!\n",
    "missing_values = customer_data.isna() # มีข้อมูลที่เป็นช่องว่างมั้ย? การที่ข้อมูลระบุว่าเป็น NaN อาจหมายความว่าแหล่งข้อมูลจงใจให้มันเป็นช่องว่าง\n",
    "print(missing_values)\n",
    "\n",
    "count_missing = missing_values.values.sum() # ทำการนับจำนวนค่าสูญหาย\n",
    "print(\"Total Missing Value =\", count_missing)"
   ]
  },
  {
   "cell_type": "markdown",
   "metadata": {
    "id": "OyghuCrIvx6O"
   },
   "source": [
    "ปฏิบัติการข้อ 3) จงนับจำนวนคอลัมน์ในชุดข้อมูล Customer Data ที่มีข้อมูลสูญหาย"
   ]
  },
  {
   "cell_type": "code",
   "execution_count": 28,
   "metadata": {
    "id": "Arn1MYnzvvbQ"
   },
   "outputs": [
    {
     "name": "stdout",
     "output_type": "stream",
     "text": [
      "cust_id           0\n",
      "age               1\n",
      "wealth_segment    1\n",
      "process_date      0\n",
      "dtype: int64\n",
      "There are 2 columns contain missing values\n"
     ]
    }
   ],
   "source": [
    "# Answer here!\n",
    "column_missing = missing_values.sum()\n",
    "print(column_missing)\n",
    "\n",
    "count_column_missing = np.count_nonzero(column_missing)\n",
    "print(\"There are %d columns contain missing values\"%(count_column_missing))"
   ]
  },
  {
   "cell_type": "markdown",
   "metadata": {
    "id": "tdVprItqxXjW"
   },
   "source": [
    "ปฏิบัติการข้อ 4) จงนับจำนวนแถวข้อมูลในชุดข้อมูล Customer Data ที่มีข้อมูลสูญหาย"
   ]
  },
  {
   "cell_type": "code",
   "execution_count": 29,
   "metadata": {
    "id": "GEyKCIomxfqT"
   },
   "outputs": [
    {
     "name": "stdout",
     "output_type": "stream",
     "text": [
      "0    1\n",
      "1    0\n",
      "2    0\n",
      "3    0\n",
      "4    1\n",
      "5    0\n",
      "6    0\n",
      "7    0\n",
      "8    0\n",
      "9    0\n",
      "dtype: int64\n",
      "There are 2 rows contain missing values\n"
     ]
    }
   ],
   "source": [
    "# Answer here!\n",
    "row_missing = missing_values.sum(axis=1)\n",
    "print(row_missing)\n",
    "\n",
    "count_row_missing = np.count_nonzero(row_missing)\n",
    "print(\"There are %d rows contain missing values\"%(count_row_missing))"
   ]
  },
  {
   "cell_type": "markdown",
   "metadata": {
    "id": "5ErnMhEuxoGu"
   },
   "source": [
    "ปฏิบัติการข้อ 5) จงหาลูกค้าที่มีการบันทึกข้อมูลในชุดข้อมูล Customer Data ในหลายระเบียนข้อมูล"
   ]
  },
  {
   "cell_type": "code",
   "execution_count": 32,
   "metadata": {
    "id": "YBYnm4AExjxW"
   },
   "outputs": [
    {
     "data": {
      "text/html": [
       "<div>\n",
       "<style scoped>\n",
       "    .dataframe tbody tr th:only-of-type {\n",
       "        vertical-align: middle;\n",
       "    }\n",
       "\n",
       "    .dataframe tbody tr th {\n",
       "        vertical-align: top;\n",
       "    }\n",
       "\n",
       "    .dataframe thead th {\n",
       "        text-align: right;\n",
       "    }\n",
       "</style>\n",
       "<table border=\"1\" class=\"dataframe\">\n",
       "  <thead>\n",
       "    <tr style=\"text-align: right;\">\n",
       "      <th></th>\n",
       "      <th>cust_id</th>\n",
       "      <th>age</th>\n",
       "      <th>wealth_segment</th>\n",
       "      <th>process_date</th>\n",
       "    </tr>\n",
       "  </thead>\n",
       "  <tbody>\n",
       "    <tr>\n",
       "      <th>8</th>\n",
       "      <td>s</td>\n",
       "      <td>-12.0</td>\n",
       "      <td>rich</td>\n",
       "      <td>2020-01-05</td>\n",
       "    </tr>\n",
       "    <tr>\n",
       "      <th>9</th>\n",
       "      <td>z</td>\n",
       "      <td>54.0</td>\n",
       "      <td>rich</td>\n",
       "      <td>2021-01-05</td>\n",
       "    </tr>\n",
       "  </tbody>\n",
       "</table>\n",
       "</div>"
      ],
      "text/plain": [
       "  cust_id   age wealth_segment process_date\n",
       "8       s -12.0           rich   2020-01-05\n",
       "9       z  54.0           rich   2021-01-05"
      ]
     },
     "execution_count": 32,
     "metadata": {},
     "output_type": "execute_result"
    }
   ],
   "source": [
    "# Answer here!\n",
    "customer_data[customer_data.duplicated(['cust_id'])]"
   ]
  },
  {
   "cell_type": "markdown",
   "metadata": {
    "id": "jLShSZQRyhfh"
   },
   "source": [
    "ปฏิบัติการข้อ 6) จงหาลูกค้าที่มีค่าข้อมูลอายุ (age) ไม่อยู่ในขอบเขตข้อมูลที่ถูกต้อง"
   ]
  },
  {
   "cell_type": "code",
   "execution_count": 41,
   "metadata": {
    "id": "j2UN-n0RygHx"
   },
   "outputs": [
    {
     "data": {
      "text/html": [
       "<div>\n",
       "<style scoped>\n",
       "    .dataframe tbody tr th:only-of-type {\n",
       "        vertical-align: middle;\n",
       "    }\n",
       "\n",
       "    .dataframe tbody tr th {\n",
       "        vertical-align: top;\n",
       "    }\n",
       "\n",
       "    .dataframe thead th {\n",
       "        text-align: right;\n",
       "    }\n",
       "</style>\n",
       "<table border=\"1\" class=\"dataframe\">\n",
       "  <thead>\n",
       "    <tr style=\"text-align: right;\">\n",
       "      <th></th>\n",
       "      <th>cust_id</th>\n",
       "      <th>age</th>\n",
       "      <th>wealth_segment</th>\n",
       "      <th>process_date</th>\n",
       "    </tr>\n",
       "  </thead>\n",
       "  <tbody>\n",
       "    <tr>\n",
       "      <th>8</th>\n",
       "      <td>s</td>\n",
       "      <td>-12.0</td>\n",
       "      <td>rich</td>\n",
       "      <td>2020-01-05</td>\n",
       "    </tr>\n",
       "  </tbody>\n",
       "</table>\n",
       "</div>"
      ],
      "text/plain": [
       "  cust_id   age wealth_segment process_date\n",
       "8       s -12.0           rich   2020-01-05"
      ]
     },
     "execution_count": 41,
     "metadata": {},
     "output_type": "execute_result"
    }
   ],
   "source": [
    "# Answer here!\n",
    "# กำหนดขอบเขตของอายุ\n",
    "min_age = 0\n",
    "max_age = 100\n",
    "\n",
    "# หาลูกค้าที่อายุไม่อยู่ในขอบเขตที่กำหนด\n",
    "customer_data[(customer_data[\"age\"] < min_age)]"
   ]
  },
  {
   "cell_type": "markdown",
   "metadata": {
    "id": "GhG94GTFyzIk"
   },
   "source": [
    "ปฏิบัติการข้อ 7) จงหาลูกค้าที่มีค่าข้อมูลอายุ (age) ผิดปรกติ ไม่สอดคล้องความเป็นจริง"
   ]
  },
  {
   "cell_type": "code",
   "execution_count": 103,
   "metadata": {
    "id": "uk6YzEdxyyIp"
   },
   "outputs": [
    {
     "data": {
      "text/html": [
       "<div>\n",
       "<style scoped>\n",
       "    .dataframe tbody tr th:only-of-type {\n",
       "        vertical-align: middle;\n",
       "    }\n",
       "\n",
       "    .dataframe tbody tr th {\n",
       "        vertical-align: top;\n",
       "    }\n",
       "\n",
       "    .dataframe thead th {\n",
       "        text-align: right;\n",
       "    }\n",
       "</style>\n",
       "<table border=\"1\" class=\"dataframe\">\n",
       "  <thead>\n",
       "    <tr style=\"text-align: right;\">\n",
       "      <th></th>\n",
       "      <th>cust_id</th>\n",
       "      <th>age</th>\n",
       "      <th>wealth_segment</th>\n",
       "      <th>process_date</th>\n",
       "    </tr>\n",
       "  </thead>\n",
       "  <tbody>\n",
       "    <tr>\n",
       "      <th>8</th>\n",
       "      <td>s</td>\n",
       "      <td>-12.0</td>\n",
       "      <td>rich</td>\n",
       "      <td>2020-01-05</td>\n",
       "    </tr>\n",
       "    <tr>\n",
       "      <th>4</th>\n",
       "      <td>v</td>\n",
       "      <td>NaN</td>\n",
       "      <td>medium</td>\n",
       "      <td>2020-01-05</td>\n",
       "    </tr>\n",
       "  </tbody>\n",
       "</table>\n",
       "</div>"
      ],
      "text/plain": [
       "  cust_id   age wealth_segment process_date\n",
       "8       s -12.0           rich   2020-01-05\n",
       "4       v   NaN         medium   2020-01-05"
      ]
     },
     "execution_count": 103,
     "metadata": {},
     "output_type": "execute_result"
    }
   ],
   "source": [
    "# Answer here! #ระบุมาในมุมมองของการตรวจ Data Quality ขอบเขต กฏนั่นนี่\n",
    "filter1_data = customer_data[(customer_data[\"age\"] < min_age)]\n",
    "filter2_data = customer_data[(customer_data[\"age\"].isna())]\n",
    "filter_data = pd.concat([filter1_data, filter2_data], axis=0)\n",
    "filter_data"
   ]
  },
  {
   "cell_type": "markdown",
   "metadata": {
    "id": "-vZ6S_6uUX-K"
   },
   "source": [
    "# Expand customer information in transaction data using information in customer data"
   ]
  },
  {
   "cell_type": "code",
   "execution_count": 97,
   "metadata": {
    "id": "0UmB1nOpWUqi"
   },
   "outputs": [
    {
     "data": {
      "text/html": [
       "<div>\n",
       "<style scoped>\n",
       "    .dataframe tbody tr th:only-of-type {\n",
       "        vertical-align: middle;\n",
       "    }\n",
       "\n",
       "    .dataframe tbody tr th {\n",
       "        vertical-align: top;\n",
       "    }\n",
       "\n",
       "    .dataframe thead th {\n",
       "        text-align: right;\n",
       "    }\n",
       "</style>\n",
       "<table border=\"1\" class=\"dataframe\">\n",
       "  <thead>\n",
       "    <tr style=\"text-align: right;\">\n",
       "      <th></th>\n",
       "      <th>txn_id</th>\n",
       "      <th>cust_id</th>\n",
       "      <th>price</th>\n",
       "      <th>process_date_x</th>\n",
       "      <th>age</th>\n",
       "      <th>wealth_segment</th>\n",
       "      <th>process_date_y</th>\n",
       "    </tr>\n",
       "  </thead>\n",
       "  <tbody>\n",
       "    <tr>\n",
       "      <th>0</th>\n",
       "      <td>1</td>\n",
       "      <td>v</td>\n",
       "      <td>89.0</td>\n",
       "      <td>1/5/2021</td>\n",
       "      <td>NaN</td>\n",
       "      <td>medium</td>\n",
       "      <td>2020-01-05</td>\n",
       "    </tr>\n",
       "    <tr>\n",
       "      <th>1</th>\n",
       "      <td>2</td>\n",
       "      <td>y</td>\n",
       "      <td>60.0</td>\n",
       "      <td>1/5/2021</td>\n",
       "      <td>41.0</td>\n",
       "      <td>rich</td>\n",
       "      <td>2020-01-05</td>\n",
       "    </tr>\n",
       "    <tr>\n",
       "      <th>2</th>\n",
       "      <td>3</td>\n",
       "      <td>m</td>\n",
       "      <td>55.0</td>\n",
       "      <td>1/5/2021</td>\n",
       "      <td>30.0</td>\n",
       "      <td>medium</td>\n",
       "      <td>2020-01-05</td>\n",
       "    </tr>\n",
       "    <tr>\n",
       "      <th>3</th>\n",
       "      <td>4</td>\n",
       "      <td>s</td>\n",
       "      <td>NaN</td>\n",
       "      <td>1/5/2021</td>\n",
       "      <td>64.0</td>\n",
       "      <td>rich</td>\n",
       "      <td>2020-01-05</td>\n",
       "    </tr>\n",
       "    <tr>\n",
       "      <th>4</th>\n",
       "      <td>4</td>\n",
       "      <td>s</td>\n",
       "      <td>NaN</td>\n",
       "      <td>1/5/2021</td>\n",
       "      <td>-12.0</td>\n",
       "      <td>rich</td>\n",
       "      <td>2020-01-05</td>\n",
       "    </tr>\n",
       "    <tr>\n",
       "      <th>5</th>\n",
       "      <td>5</td>\n",
       "      <td>z</td>\n",
       "      <td>50.0</td>\n",
       "      <td>1/5/2021</td>\n",
       "      <td>43.0</td>\n",
       "      <td>rich</td>\n",
       "      <td>2020-01-05</td>\n",
       "    </tr>\n",
       "    <tr>\n",
       "      <th>6</th>\n",
       "      <td>5</td>\n",
       "      <td>z</td>\n",
       "      <td>50.0</td>\n",
       "      <td>1/5/2021</td>\n",
       "      <td>54.0</td>\n",
       "      <td>rich</td>\n",
       "      <td>2021-01-05</td>\n",
       "    </tr>\n",
       "    <tr>\n",
       "      <th>7</th>\n",
       "      <td>6</td>\n",
       "      <td>s</td>\n",
       "      <td>41.0</td>\n",
       "      <td>2/5/2021</td>\n",
       "      <td>64.0</td>\n",
       "      <td>rich</td>\n",
       "      <td>2020-01-05</td>\n",
       "    </tr>\n",
       "    <tr>\n",
       "      <th>8</th>\n",
       "      <td>6</td>\n",
       "      <td>s</td>\n",
       "      <td>41.0</td>\n",
       "      <td>2/5/2021</td>\n",
       "      <td>-12.0</td>\n",
       "      <td>rich</td>\n",
       "      <td>2020-01-05</td>\n",
       "    </tr>\n",
       "    <tr>\n",
       "      <th>9</th>\n",
       "      <td>7</td>\n",
       "      <td>s</td>\n",
       "      <td>NaN</td>\n",
       "      <td>15/5/2021</td>\n",
       "      <td>64.0</td>\n",
       "      <td>rich</td>\n",
       "      <td>2020-01-05</td>\n",
       "    </tr>\n",
       "    <tr>\n",
       "      <th>10</th>\n",
       "      <td>7</td>\n",
       "      <td>s</td>\n",
       "      <td>NaN</td>\n",
       "      <td>15/5/2021</td>\n",
       "      <td>-12.0</td>\n",
       "      <td>rich</td>\n",
       "      <td>2020-01-05</td>\n",
       "    </tr>\n",
       "    <tr>\n",
       "      <th>11</th>\n",
       "      <td>8</td>\n",
       "      <td>e</td>\n",
       "      <td>23.0</td>\n",
       "      <td>1/5/2021</td>\n",
       "      <td>44.0</td>\n",
       "      <td>NaN</td>\n",
       "      <td>2020-01-05</td>\n",
       "    </tr>\n",
       "    <tr>\n",
       "      <th>12</th>\n",
       "      <td>9</td>\n",
       "      <td>n</td>\n",
       "      <td>12.0</td>\n",
       "      <td>1/5/2021</td>\n",
       "      <td>29.0</td>\n",
       "      <td>poor</td>\n",
       "      <td>2020-01-05</td>\n",
       "    </tr>\n",
       "    <tr>\n",
       "      <th>13</th>\n",
       "      <td>10</td>\n",
       "      <td>x</td>\n",
       "      <td>87.0</td>\n",
       "      <td>1/5/2021</td>\n",
       "      <td>40.0</td>\n",
       "      <td>poor</td>\n",
       "      <td>2020-01-05</td>\n",
       "    </tr>\n",
       "  </tbody>\n",
       "</table>\n",
       "</div>"
      ],
      "text/plain": [
       "    txn_id cust_id  price process_date_x   age wealth_segment process_date_y\n",
       "0        1       v   89.0       1/5/2021   NaN         medium     2020-01-05\n",
       "1        2       y   60.0       1/5/2021  41.0           rich     2020-01-05\n",
       "2        3       m   55.0       1/5/2021  30.0         medium     2020-01-05\n",
       "3        4       s    NaN       1/5/2021  64.0           rich     2020-01-05\n",
       "4        4       s    NaN       1/5/2021 -12.0           rich     2020-01-05\n",
       "5        5       z   50.0       1/5/2021  43.0           rich     2020-01-05\n",
       "6        5       z   50.0       1/5/2021  54.0           rich     2021-01-05\n",
       "7        6       s   41.0       2/5/2021  64.0           rich     2020-01-05\n",
       "8        6       s   41.0       2/5/2021 -12.0           rich     2020-01-05\n",
       "9        7       s    NaN      15/5/2021  64.0           rich     2020-01-05\n",
       "10       7       s    NaN      15/5/2021 -12.0           rich     2020-01-05\n",
       "11       8       e   23.0       1/5/2021  44.0            NaN     2020-01-05\n",
       "12       9       n   12.0       1/5/2021  29.0           poor     2020-01-05\n",
       "13      10       x   87.0       1/5/2021  40.0           poor     2020-01-05"
      ]
     },
     "execution_count": 97,
     "metadata": {},
     "output_type": "execute_result"
    }
   ],
   "source": [
    "# Expand customer information in transaction data\n",
    "txn_with_cust = transaction_data.merge(customer_data, on='cust_id', how='left') # join แบบ left (Default เป็น Full Join)\n",
    "txn_with_cust # หมายความว่าให้ transaction_data อยู่ทางซ้าย"
   ]
  },
  {
   "cell_type": "markdown",
   "metadata": {
    "id": "bwt5i00KWxY6"
   },
   "source": [
    "ปฏิบัติการข้อ 8) จากการรวมตารางข้อมูล transaction_data และ customer_data ข้างต้นจะพบว่ารูปแบบการแทนค่าตัวแปร process_date_x และ process_date_y ไม่สอดคล้องกัน จงทำให้รูปแบบการแทนค่าตัวแปร process_date_x และ process_date_y สอดคล้องกัน"
   ]
  },
  {
   "cell_type": "code",
   "execution_count": 98,
   "metadata": {
    "id": "F-I6slCfXLpY"
   },
   "outputs": [
    {
     "data": {
      "text/html": [
       "<div>\n",
       "<style scoped>\n",
       "    .dataframe tbody tr th:only-of-type {\n",
       "        vertical-align: middle;\n",
       "    }\n",
       "\n",
       "    .dataframe tbody tr th {\n",
       "        vertical-align: top;\n",
       "    }\n",
       "\n",
       "    .dataframe thead th {\n",
       "        text-align: right;\n",
       "    }\n",
       "</style>\n",
       "<table border=\"1\" class=\"dataframe\">\n",
       "  <thead>\n",
       "    <tr style=\"text-align: right;\">\n",
       "      <th></th>\n",
       "      <th>txn_id</th>\n",
       "      <th>cust_id</th>\n",
       "      <th>price</th>\n",
       "      <th>process_date_x</th>\n",
       "      <th>age</th>\n",
       "      <th>wealth_segment</th>\n",
       "      <th>process_date_y</th>\n",
       "    </tr>\n",
       "  </thead>\n",
       "  <tbody>\n",
       "    <tr>\n",
       "      <th>0</th>\n",
       "      <td>1</td>\n",
       "      <td>v</td>\n",
       "      <td>89.0</td>\n",
       "      <td>2021-05-01</td>\n",
       "      <td>NaN</td>\n",
       "      <td>medium</td>\n",
       "      <td>2020-01-05</td>\n",
       "    </tr>\n",
       "    <tr>\n",
       "      <th>1</th>\n",
       "      <td>2</td>\n",
       "      <td>y</td>\n",
       "      <td>60.0</td>\n",
       "      <td>2021-05-01</td>\n",
       "      <td>41.0</td>\n",
       "      <td>rich</td>\n",
       "      <td>2020-01-05</td>\n",
       "    </tr>\n",
       "    <tr>\n",
       "      <th>2</th>\n",
       "      <td>3</td>\n",
       "      <td>m</td>\n",
       "      <td>55.0</td>\n",
       "      <td>2021-05-01</td>\n",
       "      <td>30.0</td>\n",
       "      <td>medium</td>\n",
       "      <td>2020-01-05</td>\n",
       "    </tr>\n",
       "    <tr>\n",
       "      <th>3</th>\n",
       "      <td>4</td>\n",
       "      <td>s</td>\n",
       "      <td>NaN</td>\n",
       "      <td>2021-05-01</td>\n",
       "      <td>64.0</td>\n",
       "      <td>rich</td>\n",
       "      <td>2020-01-05</td>\n",
       "    </tr>\n",
       "    <tr>\n",
       "      <th>4</th>\n",
       "      <td>4</td>\n",
       "      <td>s</td>\n",
       "      <td>NaN</td>\n",
       "      <td>2021-05-01</td>\n",
       "      <td>-12.0</td>\n",
       "      <td>rich</td>\n",
       "      <td>2020-01-05</td>\n",
       "    </tr>\n",
       "    <tr>\n",
       "      <th>5</th>\n",
       "      <td>5</td>\n",
       "      <td>z</td>\n",
       "      <td>50.0</td>\n",
       "      <td>2021-05-01</td>\n",
       "      <td>43.0</td>\n",
       "      <td>rich</td>\n",
       "      <td>2020-01-05</td>\n",
       "    </tr>\n",
       "    <tr>\n",
       "      <th>6</th>\n",
       "      <td>5</td>\n",
       "      <td>z</td>\n",
       "      <td>50.0</td>\n",
       "      <td>2021-05-01</td>\n",
       "      <td>54.0</td>\n",
       "      <td>rich</td>\n",
       "      <td>2021-01-05</td>\n",
       "    </tr>\n",
       "    <tr>\n",
       "      <th>7</th>\n",
       "      <td>6</td>\n",
       "      <td>s</td>\n",
       "      <td>41.0</td>\n",
       "      <td>2021-05-02</td>\n",
       "      <td>64.0</td>\n",
       "      <td>rich</td>\n",
       "      <td>2020-01-05</td>\n",
       "    </tr>\n",
       "    <tr>\n",
       "      <th>8</th>\n",
       "      <td>6</td>\n",
       "      <td>s</td>\n",
       "      <td>41.0</td>\n",
       "      <td>2021-05-02</td>\n",
       "      <td>-12.0</td>\n",
       "      <td>rich</td>\n",
       "      <td>2020-01-05</td>\n",
       "    </tr>\n",
       "    <tr>\n",
       "      <th>9</th>\n",
       "      <td>7</td>\n",
       "      <td>s</td>\n",
       "      <td>NaN</td>\n",
       "      <td>2021-05-15</td>\n",
       "      <td>64.0</td>\n",
       "      <td>rich</td>\n",
       "      <td>2020-01-05</td>\n",
       "    </tr>\n",
       "    <tr>\n",
       "      <th>10</th>\n",
       "      <td>7</td>\n",
       "      <td>s</td>\n",
       "      <td>NaN</td>\n",
       "      <td>2021-05-15</td>\n",
       "      <td>-12.0</td>\n",
       "      <td>rich</td>\n",
       "      <td>2020-01-05</td>\n",
       "    </tr>\n",
       "    <tr>\n",
       "      <th>11</th>\n",
       "      <td>8</td>\n",
       "      <td>e</td>\n",
       "      <td>23.0</td>\n",
       "      <td>2021-05-01</td>\n",
       "      <td>44.0</td>\n",
       "      <td>NaN</td>\n",
       "      <td>2020-01-05</td>\n",
       "    </tr>\n",
       "    <tr>\n",
       "      <th>12</th>\n",
       "      <td>9</td>\n",
       "      <td>n</td>\n",
       "      <td>12.0</td>\n",
       "      <td>2021-05-01</td>\n",
       "      <td>29.0</td>\n",
       "      <td>poor</td>\n",
       "      <td>2020-01-05</td>\n",
       "    </tr>\n",
       "    <tr>\n",
       "      <th>13</th>\n",
       "      <td>10</td>\n",
       "      <td>x</td>\n",
       "      <td>87.0</td>\n",
       "      <td>2021-05-01</td>\n",
       "      <td>40.0</td>\n",
       "      <td>poor</td>\n",
       "      <td>2020-01-05</td>\n",
       "    </tr>\n",
       "  </tbody>\n",
       "</table>\n",
       "</div>"
      ],
      "text/plain": [
       "    txn_id cust_id  price process_date_x   age wealth_segment process_date_y\n",
       "0        1       v   89.0     2021-05-01   NaN         medium     2020-01-05\n",
       "1        2       y   60.0     2021-05-01  41.0           rich     2020-01-05\n",
       "2        3       m   55.0     2021-05-01  30.0         medium     2020-01-05\n",
       "3        4       s    NaN     2021-05-01  64.0           rich     2020-01-05\n",
       "4        4       s    NaN     2021-05-01 -12.0           rich     2020-01-05\n",
       "5        5       z   50.0     2021-05-01  43.0           rich     2020-01-05\n",
       "6        5       z   50.0     2021-05-01  54.0           rich     2021-01-05\n",
       "7        6       s   41.0     2021-05-02  64.0           rich     2020-01-05\n",
       "8        6       s   41.0     2021-05-02 -12.0           rich     2020-01-05\n",
       "9        7       s    NaN     2021-05-15  64.0           rich     2020-01-05\n",
       "10       7       s    NaN     2021-05-15 -12.0           rich     2020-01-05\n",
       "11       8       e   23.0     2021-05-01  44.0            NaN     2020-01-05\n",
       "12       9       n   12.0     2021-05-01  29.0           poor     2020-01-05\n",
       "13      10       x   87.0     2021-05-01  40.0           poor     2020-01-05"
      ]
     },
     "execution_count": 98,
     "metadata": {},
     "output_type": "execute_result"
    }
   ],
   "source": [
    "# Answer here!\n",
    "txn_with_cust[\"process_date_x\"] = pd.to_datetime(txn_with_cust[\"process_date_x\"], format=\"%d/%m/%Y\")\n",
    "txn_with_cust[\"process_date_y\"] = pd.to_datetime(txn_with_cust[\"process_date_y\"], format=\"%Y-%m-%d\")\n",
    "txn_with_cust"
   ]
  }
 ],
 "metadata": {
  "colab": {
   "collapsed_sections": [],
   "name": "Lab_05_XXXXXXXXX.ipynb",
   "provenance": []
  },
  "kernelspec": {
   "display_name": "Python 3 (ipykernel)",
   "language": "python",
   "name": "python3"
  },
  "language_info": {
   "codemirror_mode": {
    "name": "ipython",
    "version": 3
   },
   "file_extension": ".py",
   "mimetype": "text/x-python",
   "name": "python",
   "nbconvert_exporter": "python",
   "pygments_lexer": "ipython3",
   "version": "3.11.7"
  }
 },
 "nbformat": 4,
 "nbformat_minor": 4
}
