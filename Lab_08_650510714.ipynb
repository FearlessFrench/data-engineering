{
 "cells": [
  {
   "cell_type": "markdown",
   "metadata": {
    "id": "ocefQLJIUuuk"
   },
   "source": [
    "# **Workshop 8: Data Exploration and Visualization (Numeric Data)**\n",
    "**คำสั่ง**\n",
    "\n",
    "1.   ศึกษาวิธีการสำรวจลักษณะการกระจายของข้อมูลเชิงตัวเลขด้วยค่าสถิติเชิงพรรณนาและการแสดงภาพข้อมูล\n",
    "2.   ทำโจทย์ปฏิบัติการแต่ละข้อตามคำสั่ง\n",
    "3.   ตั้งชื่อไฟล์ python notebook นี้ในรูปแบบ Lab_08_XXXXXXXXX.ipynb โดย XXXXXXXXX คือ รหัสนักศึกษา\n",
    "4.   ทำการดาวน์โหลดและส่งไฟล์ Lab_08_650510714.ipynb ที่เว็บไซต์ https://mango-cmu.instructure.com/courses/6152/assignments/55650"
   ]
  },
  {
   "cell_type": "code",
   "execution_count": 1,
   "metadata": {
    "id": "paLTi4i6UuAN"
   },
   "outputs": [],
   "source": [
    "import pandas as pd\n",
    "import numpy as np\n",
    "import matplotlib.pyplot as plt\n",
    "from scipy.stats import kurtosis, skew\n",
    "import seaborn as sns"
   ]
  },
  {
   "cell_type": "code",
   "execution_count": 2,
   "metadata": {
    "id": "O6JCM0gjcMvW"
   },
   "outputs": [
    {
     "data": {
      "text/html": [
       "<div>\n",
       "<style scoped>\n",
       "    .dataframe tbody tr th:only-of-type {\n",
       "        vertical-align: middle;\n",
       "    }\n",
       "\n",
       "    .dataframe tbody tr th {\n",
       "        vertical-align: top;\n",
       "    }\n",
       "\n",
       "    .dataframe thead th {\n",
       "        text-align: right;\n",
       "    }\n",
       "</style>\n",
       "<table border=\"1\" class=\"dataframe\">\n",
       "  <thead>\n",
       "    <tr style=\"text-align: right;\">\n",
       "      <th></th>\n",
       "      <th>id</th>\n",
       "      <th>diagnosis</th>\n",
       "      <th>radius_mean</th>\n",
       "      <th>texture_mean</th>\n",
       "      <th>perimeter_mean</th>\n",
       "      <th>area_mean</th>\n",
       "      <th>smoothness_mean</th>\n",
       "      <th>compactness_mean</th>\n",
       "      <th>concavity_mean</th>\n",
       "      <th>concave points_mean</th>\n",
       "      <th>...</th>\n",
       "      <th>texture_worst</th>\n",
       "      <th>perimeter_worst</th>\n",
       "      <th>area_worst</th>\n",
       "      <th>smoothness_worst</th>\n",
       "      <th>compactness_worst</th>\n",
       "      <th>concavity_worst</th>\n",
       "      <th>concave points_worst</th>\n",
       "      <th>symmetry_worst</th>\n",
       "      <th>fractal_dimension_worst</th>\n",
       "      <th>Unnamed: 32</th>\n",
       "    </tr>\n",
       "  </thead>\n",
       "  <tbody>\n",
       "    <tr>\n",
       "      <th>0</th>\n",
       "      <td>842302</td>\n",
       "      <td>M</td>\n",
       "      <td>17.99</td>\n",
       "      <td>10.38</td>\n",
       "      <td>122.80</td>\n",
       "      <td>1001.0</td>\n",
       "      <td>0.11840</td>\n",
       "      <td>0.27760</td>\n",
       "      <td>0.3001</td>\n",
       "      <td>0.14710</td>\n",
       "      <td>...</td>\n",
       "      <td>17.33</td>\n",
       "      <td>184.60</td>\n",
       "      <td>2019.0</td>\n",
       "      <td>0.1622</td>\n",
       "      <td>0.6656</td>\n",
       "      <td>0.7119</td>\n",
       "      <td>0.2654</td>\n",
       "      <td>0.4601</td>\n",
       "      <td>0.11890</td>\n",
       "      <td>NaN</td>\n",
       "    </tr>\n",
       "    <tr>\n",
       "      <th>1</th>\n",
       "      <td>842517</td>\n",
       "      <td>M</td>\n",
       "      <td>20.57</td>\n",
       "      <td>17.77</td>\n",
       "      <td>132.90</td>\n",
       "      <td>1326.0</td>\n",
       "      <td>0.08474</td>\n",
       "      <td>0.07864</td>\n",
       "      <td>0.0869</td>\n",
       "      <td>0.07017</td>\n",
       "      <td>...</td>\n",
       "      <td>23.41</td>\n",
       "      <td>158.80</td>\n",
       "      <td>1956.0</td>\n",
       "      <td>0.1238</td>\n",
       "      <td>0.1866</td>\n",
       "      <td>0.2416</td>\n",
       "      <td>0.1860</td>\n",
       "      <td>0.2750</td>\n",
       "      <td>0.08902</td>\n",
       "      <td>NaN</td>\n",
       "    </tr>\n",
       "    <tr>\n",
       "      <th>2</th>\n",
       "      <td>84300903</td>\n",
       "      <td>M</td>\n",
       "      <td>19.69</td>\n",
       "      <td>21.25</td>\n",
       "      <td>130.00</td>\n",
       "      <td>1203.0</td>\n",
       "      <td>0.10960</td>\n",
       "      <td>0.15990</td>\n",
       "      <td>0.1974</td>\n",
       "      <td>0.12790</td>\n",
       "      <td>...</td>\n",
       "      <td>25.53</td>\n",
       "      <td>152.50</td>\n",
       "      <td>1709.0</td>\n",
       "      <td>0.1444</td>\n",
       "      <td>0.4245</td>\n",
       "      <td>0.4504</td>\n",
       "      <td>0.2430</td>\n",
       "      <td>0.3613</td>\n",
       "      <td>0.08758</td>\n",
       "      <td>NaN</td>\n",
       "    </tr>\n",
       "    <tr>\n",
       "      <th>3</th>\n",
       "      <td>84348301</td>\n",
       "      <td>M</td>\n",
       "      <td>11.42</td>\n",
       "      <td>20.38</td>\n",
       "      <td>77.58</td>\n",
       "      <td>386.1</td>\n",
       "      <td>0.14250</td>\n",
       "      <td>0.28390</td>\n",
       "      <td>0.2414</td>\n",
       "      <td>0.10520</td>\n",
       "      <td>...</td>\n",
       "      <td>26.50</td>\n",
       "      <td>98.87</td>\n",
       "      <td>567.7</td>\n",
       "      <td>0.2098</td>\n",
       "      <td>0.8663</td>\n",
       "      <td>0.6869</td>\n",
       "      <td>0.2575</td>\n",
       "      <td>0.6638</td>\n",
       "      <td>0.17300</td>\n",
       "      <td>NaN</td>\n",
       "    </tr>\n",
       "    <tr>\n",
       "      <th>4</th>\n",
       "      <td>84358402</td>\n",
       "      <td>M</td>\n",
       "      <td>20.29</td>\n",
       "      <td>14.34</td>\n",
       "      <td>135.10</td>\n",
       "      <td>1297.0</td>\n",
       "      <td>0.10030</td>\n",
       "      <td>0.13280</td>\n",
       "      <td>0.1980</td>\n",
       "      <td>0.10430</td>\n",
       "      <td>...</td>\n",
       "      <td>16.67</td>\n",
       "      <td>152.20</td>\n",
       "      <td>1575.0</td>\n",
       "      <td>0.1374</td>\n",
       "      <td>0.2050</td>\n",
       "      <td>0.4000</td>\n",
       "      <td>0.1625</td>\n",
       "      <td>0.2364</td>\n",
       "      <td>0.07678</td>\n",
       "      <td>NaN</td>\n",
       "    </tr>\n",
       "  </tbody>\n",
       "</table>\n",
       "<p>5 rows × 33 columns</p>\n",
       "</div>"
      ],
      "text/plain": [
       "         id diagnosis  radius_mean  texture_mean  perimeter_mean  area_mean  \\\n",
       "0    842302         M        17.99         10.38          122.80     1001.0   \n",
       "1    842517         M        20.57         17.77          132.90     1326.0   \n",
       "2  84300903         M        19.69         21.25          130.00     1203.0   \n",
       "3  84348301         M        11.42         20.38           77.58      386.1   \n",
       "4  84358402         M        20.29         14.34          135.10     1297.0   \n",
       "\n",
       "   smoothness_mean  compactness_mean  concavity_mean  concave points_mean  \\\n",
       "0          0.11840           0.27760          0.3001              0.14710   \n",
       "1          0.08474           0.07864          0.0869              0.07017   \n",
       "2          0.10960           0.15990          0.1974              0.12790   \n",
       "3          0.14250           0.28390          0.2414              0.10520   \n",
       "4          0.10030           0.13280          0.1980              0.10430   \n",
       "\n",
       "   ...  texture_worst  perimeter_worst  area_worst  smoothness_worst  \\\n",
       "0  ...          17.33           184.60      2019.0            0.1622   \n",
       "1  ...          23.41           158.80      1956.0            0.1238   \n",
       "2  ...          25.53           152.50      1709.0            0.1444   \n",
       "3  ...          26.50            98.87       567.7            0.2098   \n",
       "4  ...          16.67           152.20      1575.0            0.1374   \n",
       "\n",
       "   compactness_worst  concavity_worst  concave points_worst  symmetry_worst  \\\n",
       "0             0.6656           0.7119                0.2654          0.4601   \n",
       "1             0.1866           0.2416                0.1860          0.2750   \n",
       "2             0.4245           0.4504                0.2430          0.3613   \n",
       "3             0.8663           0.6869                0.2575          0.6638   \n",
       "4             0.2050           0.4000                0.1625          0.2364   \n",
       "\n",
       "   fractal_dimension_worst  Unnamed: 32  \n",
       "0                  0.11890          NaN  \n",
       "1                  0.08902          NaN  \n",
       "2                  0.08758          NaN  \n",
       "3                  0.17300          NaN  \n",
       "4                  0.07678          NaN  \n",
       "\n",
       "[5 rows x 33 columns]"
      ]
     },
     "execution_count": 2,
     "metadata": {},
     "output_type": "execute_result"
    }
   ],
   "source": [
    "# load breast cancer data \n",
    "df = pd.read_csv('breast_cancer_data.csv')\n",
    "df.head()"
   ]
  },
  {
   "cell_type": "markdown",
   "metadata": {
    "id": "CP8piIapNAxX"
   },
   "source": [
    "**Describe the distribution shape using descriptive statistics**"
   ]
  },
  {
   "cell_type": "code",
   "execution_count": 3,
   "metadata": {},
   "outputs": [
    {
     "name": "stdout",
     "output_type": "stream",
     "text": [
      "Mean of radius_mean = 14.127291739894552\n"
     ]
    }
   ],
   "source": [
    "# ดูค่าเฉลี่ยของ Feature radius_mean\n",
    "print('Mean of radius_mean =',df['radius_mean'].mean())"
   ]
  },
  {
   "cell_type": "code",
   "execution_count": 4,
   "metadata": {},
   "outputs": [
    {
     "name": "stdout",
     "output_type": "stream",
     "text": [
      "Median of radius_mean = 13.37\n"
     ]
    }
   ],
   "source": [
    "# ดูค่ากลางของ Feature radius_mean\n",
    "print('Median of radius_mean =',df['radius_mean'].median())"
   ]
  },
  {
   "cell_type": "code",
   "execution_count": 5,
   "metadata": {},
   "outputs": [
    {
     "name": "stdout",
     "output_type": "stream",
     "text": [
      "Mode of radius_mean:\n",
      "12.34\n"
     ]
    }
   ],
   "source": [
    "# ดูค่าฐานนิยมของ Feature radius_mean\n",
    "print('Mode of radius_mean:',)\n",
    "mode_radius_mean = df['radius_mean'].mode()\n",
    "for mode in mode_radius_mean:\n",
    "  print(mode)"
   ]
  },
  {
   "cell_type": "code",
   "execution_count": 6,
   "metadata": {},
   "outputs": [
    {
     "name": "stdout",
     "output_type": "stream",
     "text": [
      "SD of radius_mean = 3.524048826212078\n"
     ]
    }
   ],
   "source": [
    "# ดูค่าส่วนเบี่ยงเบนมาตรฐานของ Feature radius_mean\n",
    "print('SD of radius_mean =',df['radius_mean'].std())"
   ]
  },
  {
   "cell_type": "code",
   "execution_count": 7,
   "metadata": {},
   "outputs": [
    {
     "name": "stdout",
     "output_type": "stream",
     "text": [
      "Variance of radius_mean = 12.418920129526725\n"
     ]
    }
   ],
   "source": [
    "# ดูค่าความแปรปรวนของ Feature radius_mean\n",
    "print('Variance of radius_mean =',df['radius_mean'].var())"
   ]
  },
  {
   "cell_type": "code",
   "execution_count": 8,
   "metadata": {},
   "outputs": [
    {
     "name": "stdout",
     "output_type": "stream",
     "text": [
      "Kurtosis of radius_mean = 0.8455216229065377\n"
     ]
    }
   ],
   "source": [
    "print('Kurtosis of radius_mean =',df['radius_mean'].kurt())"
   ]
  },
  {
   "cell_type": "code",
   "execution_count": 9,
   "metadata": {},
   "outputs": [
    {
     "name": "stdout",
     "output_type": "stream",
     "text": [
      "Excess kurtosis of radius_mean = -2.1544783770934623\n"
     ]
    }
   ],
   "source": [
    "print('Excess kurtosis of radius_mean =',df['radius_mean'].kurt()-3)"
   ]
  },
  {
   "cell_type": "code",
   "execution_count": 10,
   "metadata": {},
   "outputs": [
    {
     "name": "stdout",
     "output_type": "stream",
     "text": [
      "Skewness of radius_mean = 0.9423795716730992\n"
     ]
    }
   ],
   "source": [
    "print('Skewness of radius_mean =',df['radius_mean'].skew())"
   ]
  },
  {
   "cell_type": "code",
   "execution_count": 21,
   "metadata": {
    "id": "gZ04YYWpY-uj"
   },
   "outputs": [
    {
     "name": "stdout",
     "output_type": "stream",
     "text": [
      "IQR of radius_mean = 4.08\n",
      "Lower limit of radius_mean = 5.579999999999999\n",
      "Upper limit of radius_mean = 21.9\n"
     ]
    }
   ],
   "source": [
    "IQR_radius_mean = df['radius_mean'].quantile(0.75)-df['radius_mean'].quantile(0.25)\n",
    "LL_radius_mean = df['radius_mean'].quantile(0.25)-1.5*IQR_radius_mean\n",
    "UL_radius_mean = df['radius_mean'].quantile(0.75)+1.5*IQR_radius_mean\n",
    "print('IQR of radius_mean =',IQR_radius_mean)\n",
    "print('Lower limit of radius_mean =',LL_radius_mean)\n",
    "print('Upper limit of radius_mean =',UL_radius_mean)"
   ]
  },
  {
   "cell_type": "markdown",
   "metadata": {
    "id": "iIqVNkWjKCSA"
   },
   "source": [
    "ปฏิบัติการข้อ 1) จงอธิบายลักษณะการกระจายของค่าตัวแปร area_mean ด้วยค่าสถิติเชิงพรรณนา"
   ]
  },
  {
   "cell_type": "code",
   "execution_count": 23,
   "metadata": {},
   "outputs": [
    {
     "data": {
      "text/plain": [
       "0      1001.0\n",
       "1      1326.0\n",
       "2      1203.0\n",
       "3       386.1\n",
       "4      1297.0\n",
       "        ...  \n",
       "564    1479.0\n",
       "565    1261.0\n",
       "566     858.1\n",
       "567    1265.0\n",
       "568     181.0\n",
       "Name: area_mean, Length: 569, dtype: float64"
      ]
     },
     "execution_count": 23,
     "metadata": {},
     "output_type": "execute_result"
    }
   ],
   "source": [
    "df.area_mean # ดู Feature area_mean"
   ]
  },
  {
   "cell_type": "code",
   "execution_count": 25,
   "metadata": {
    "id": "ojJzJsJkMhXG"
   },
   "outputs": [
    {
     "name": "stdout",
     "output_type": "stream",
     "text": [
      "Distribution shape of area_mean using descriptive statistics:\n",
      "Mean = 654.8891036906855\n",
      "Median = 551.1\n",
      "Mode = 512.2\n",
      "Standard Deviation = 351.9141291816527\n",
      "Variance = 123843.55431768096\n",
      "Kurtosis = 3.6523027623507582\n",
      "Excess kurtosis = 0.6523027623507582\n",
      "Skewness = 1.6457321756240424\n",
      "IQR = 362.40000000000003\n",
      "Lower limit = -123.30000000000001\n",
      "Upper limit = 1326.3000000000002\n"
     ]
    }
   ],
   "source": [
    "# Answer here!\n",
    "print(\"Distribution shape of area_mean using descriptive statistics:\")\n",
    "print(\"Mean =\", df[\"area_mean\"].mean())\n",
    "print(\"Median =\", df[\"area_mean\"].median())\n",
    "\n",
    "mode_area_mean = df[\"area_mean\"].mode()\n",
    "for mode in mode_area_mean:\n",
    "  print(\"Mode =\", mode)\n",
    "\n",
    "print(\"Standard Deviation =\", df[\"area_mean\"].std())\n",
    "print(\"Variance =\", df[\"area_mean\"].var())\n",
    "print(\"Kurtosis =\", df[\"area_mean\"].kurt())\n",
    "print(\"Excess kurtosis =\", df[\"area_mean\"].kurt()-3)\n",
    "print(\"Skewness =\", df[\"area_mean\"].skew())\n",
    "\n",
    "\n",
    "IQR_area_mean = df[\"area_mean\"].quantile(0.75) - df[\"area_mean\"].quantile(0.25)\n",
    "print(\"IQR =\", IQR_area_mean)\n",
    "\n",
    "LL_area_mean = df[\"area_mean\"].quantile(0.25) - 1.5*IQR_area_mean\n",
    "print(\"Lower limit =\", LL_area_mean)\n",
    "\n",
    "UL_area_mean = df[\"area_mean\"].quantile(0.75) + 1.5*IQR_area_mean\n",
    "print(\"Upper limit =\", UL_area_mean)"
   ]
  },
  {
   "cell_type": "markdown",
   "metadata": {
    "id": "k06GHB-IMLof"
   },
   "source": [
    "ปฏิบัติการข้อ 2) จงเขียนฟังก์ชันเพื่อตรวจหาค่าผิดปรกติของค่าตัวแปรหนึ่งๆ"
   ]
  },
  {
   "cell_type": "code",
   "execution_count": 27,
   "metadata": {
    "id": "l2-v5yOjMK6M"
   },
   "outputs": [],
   "source": [
    "# Answer here!\n",
    "def outlier_check(feature, lower_limit, upper_limit):\n",
    "    outliers = feature[(feature < lower_limit) | (feature > upper_limit)]\n",
    "    if outliers.empty is not True:\n",
    "        print(\"Outlier detected at indices:\", outliers.index.tolist())\n",
    "    else:\n",
    "        print(\"No Error\")"
   ]
  },
  {
   "cell_type": "markdown",
   "metadata": {
    "id": "SqGYxQUaMAQR"
   },
   "source": [
    "ปฏิบัติการข้อ 3) จงเรียกใช้ฟังก์ในข้อ 2 เพื่อตรวจหาค่าของตัวแปร radius_mean ที่อาจเป็นข้อมูลผิดปรกติ"
   ]
  },
  {
   "cell_type": "code",
   "execution_count": 29,
   "metadata": {},
   "outputs": [
    {
     "name": "stdout",
     "output_type": "stream",
     "text": [
      "Outlier detected at indices: [82, 108, 122, 164, 180, 202, 212, 236, 339, 352, 369, 461, 503, 521]\n"
     ]
    }
   ],
   "source": [
    "# Answer here!\n",
    "outlier_check(df.radius_mean, LL_radius_mean, UL_radius_mean)"
   ]
  },
  {
   "cell_type": "markdown",
   "metadata": {
    "id": "J-tKzQq-LD89"
   },
   "source": [
    "ปฏิบัติการข้อ 4) จงเขียนฟังก์ชันเพื่อระบุลักษณะการกระจาย (Distribution) ของค่าตัวแปร (Feature) ว่ามีการแจกแจงค่าตัวแปรแบบใด"
   ]
  },
  {
   "cell_type": "code",
   "execution_count": 31,
   "metadata": {
    "id": "uadHSDecLDYY"
   },
   "outputs": [],
   "source": [
    "# Answer here!\n",
    "def distribution_characteristics(feature, feature_title):\n",
    "    mean = feature.mean()\n",
    "    median = feature.median()\n",
    "    mode = feature.mode()[0]  # mode() returns a Series, so we take the first value\n",
    "    std = feature.std()\n",
    "    skew = feature.skew()\n",
    "\n",
    "    # ดูลักษณะการกระจายของตัวแปรด้วย Mean, Median และ Mode\n",
    "    if median == mean and median == mode:\n",
    "        distribution_type = \"Symmetrical Distribution (Normal Distribution)\"\n",
    "    elif median > mean and median < mode:\n",
    "        distribution_type = \"Negative Skew\"\n",
    "    elif median < mean and median > mode:\n",
    "        distribution_type = \"Positive Skew\"\n",
    "    else:\n",
    "        distribution_type = \"Asymmetrical Distribution\"\n",
    "\n",
    "    # Standard Deviation (SD)\n",
    "    if std < mean:\n",
    "        spread = \"Data points tend to be close to the mean\"\n",
    "    else:\n",
    "        spread = \"Data points are spread out over a wider range of values\"\n",
    "    # Skewness\n",
    "    if skew == 0:\n",
    "        skewness = \"Symmetrical Distribution (Normal Distribution)\"\n",
    "    elif skew < 0:\n",
    "        skewness = \"Negative Skew\"\n",
    "    else:\n",
    "        skewness = \"Positive Skew\"\n",
    "        \n",
    "    # Variance, Kurtosis, Excess kurtosis, และ IQR (ไม่ได้ใช้)\n",
    "    return {\"Feature\": feature_title,\n",
    "            \"Distribution Type\": distribution_type,\n",
    "            \"Spread\": spread,\n",
    "            \"Skewness\": skewness}"
   ]
  },
  {
   "cell_type": "markdown",
   "metadata": {
    "id": "LyxP3KhcLT77"
   },
   "source": [
    "ปฏิบัติการข้อ 5) จงเรียกใช้ฟังก์ชันในข้อ 4 เพื่อระบุลักษณะการกระจายของค่าตัวแปร compactness_mean"
   ]
  },
  {
   "cell_type": "code",
   "execution_count": 33,
   "metadata": {
    "id": "q1ainSc3LfBM"
   },
   "outputs": [
    {
     "data": {
      "text/plain": [
       "{'Feature': 'compactness_mean',\n",
       " 'Distribution Type': 'Asymmetrical Distribution',\n",
       " 'Spread': 'Data points tend to be close to the mean',\n",
       " 'Skewness': 'Positive Skew'}"
      ]
     },
     "execution_count": 33,
     "metadata": {},
     "output_type": "execute_result"
    }
   ],
   "source": [
    "# Answer here!\n",
    "distribution_characteristics(df.compactness_mean, \"compactness_mean\")"
   ]
  },
  {
   "cell_type": "markdown",
   "metadata": {
    "id": "dfAk9uAENNzr"
   },
   "source": [
    "**Describe the shape of distribution by data visualizing**"
   ]
  },
  {
   "cell_type": "code",
   "execution_count": 35,
   "metadata": {
    "id": "iKipo3J1Leuo"
   },
   "outputs": [
    {
     "data": {
      "text/plain": [
       "<Axes: xlabel='radius_mean', ylabel='Count'>"
      ]
     },
     "execution_count": 35,
     "metadata": {},
     "output_type": "execute_result"
    },
    {
     "data": {
      "image/png": "[encoded data removed]",
      "text/plain": [
       "<Figure size 640x480 with 1 Axes>"
      ]
     },
     "metadata": {},
     "output_type": "display_data"
    }
   ],
   "source": [
    "# Histogram\n",
    "n = df.shape[0] # number of samples\n",
    "h = 2*IQR_radius_mean*(n**(-1/3)) # estimate binwidth using Freedman-Diaconis rule\n",
    "\n",
    "sns.histplot(data=df, x=\"radius_mean\", binwidth=h)"
   ]
  },
  {
   "cell_type": "code",
   "execution_count": 37,
   "metadata": {
    "id": "GUBc8qmLPpnc"
   },
   "outputs": [
    {
     "data": {
      "text/plain": [
       "<seaborn.axisgrid.FacetGrid at 0x189c4192810>"
      ]
     },
     "execution_count": 37,
     "metadata": {},
     "output_type": "execute_result"
    },
    {
     "data": {
      "image/png": "[encoded data removed]",
      "text/plain": [
       "<Figure size 500x500 with 1 Axes>"
      ]
     },
     "metadata": {},
     "output_type": "display_data"
    }
   ],
   "source": [
    "# Density plot สังเกตว่ามีการใส่รายละเอียด (Curve) มากเกินไป\n",
    "bw = 0.786*IQR_radius_mean*(n**(-1/5)) \n",
    "sns.displot(data=df, x=\"radius_mean\", kind=\"kde\", bw_adjust=bw)"
   ]
  },
  {
   "cell_type": "markdown",
   "metadata": {
    "id": "dfAk9uAENNzr"
   },
   "source": [
    "**การ Plot data จากตัวแปร (Feature) 2 คอลัมน์**"
   ]
  },
  {
   "cell_type": "code",
   "execution_count": 39,
   "metadata": {
    "id": "bXFCWRLlRG2r"
   },
   "outputs": [
    {
     "data": {
      "text/plain": [
       "<Axes: xlabel='radius_mean', ylabel='Count'>"
      ]
     },
     "execution_count": 39,
     "metadata": {},
     "output_type": "execute_result"
    },
    {
     "data": {
      "image/png": "[encoded data removed]",
      "text/plain": [
       "<Figure size 640x480 with 1 Axes>"
      ]
     },
     "metadata": {},
     "output_type": "display_data"
    }
   ],
   "source": [
    "# Histogram with conditioning on other variables\n",
    "n = df.shape[0] # number of samples\n",
    "h = 2*IQR_radius_mean*(n**(-1/3)) # estimate binwidth using Freedman-Diaconis rule\n",
    "\n",
    "sns.histplot(data=df, x=\"radius_mean\",  hue=\"diagnosis\", binwidth=h)"
   ]
  },
  {
   "cell_type": "code",
   "execution_count": 41,
   "metadata": {
    "id": "Ar8KhPcTSqtI"
   },
   "outputs": [
    {
     "data": {
      "text/plain": [
       "<Axes: ylabel='radius_mean'>"
      ]
     },
     "execution_count": 41,
     "metadata": {},
     "output_type": "execute_result"
    },
    {
     "data": {
      "image/png": "[encoded data removed]",
      "text/plain": [
       "<Figure size 640x480 with 1 Axes>"
      ]
     },
     "metadata": {},
     "output_type": "display_data"
    }
   ],
   "source": [
    "# Boxplot\n",
    "sns.boxplot(data=df, y=\"radius_mean\")"
   ]
  },
  {
   "cell_type": "code",
   "execution_count": 43,
   "metadata": {
    "id": "l2WpPKodTU-y"
   },
   "outputs": [
    {
     "data": {
      "text/plain": [
       "<Axes: xlabel='diagnosis', ylabel='radius_mean'>"
      ]
     },
     "execution_count": 43,
     "metadata": {},
     "output_type": "execute_result"
    },
    {
     "data": {
      "image/png": "[encoded data removed]",
      "text/plain": [
       "<Figure size 640x480 with 1 Axes>"
      ]
     },
     "metadata": {},
     "output_type": "display_data"
    }
   ],
   "source": [
    "#compare the distributions of a variable for each category \n",
    "sns.boxplot(data=df, x=\"diagnosis\",y='radius_mean')"
   ]
  },
  {
   "cell_type": "code",
   "execution_count": 45,
   "metadata": {
    "id": "ru0_yxZpTy9y"
   },
   "outputs": [
    {
     "data": {
      "text/plain": [
       "<Axes: xlabel='diagnosis', ylabel='radius_mean'>"
      ]
     },
     "execution_count": 45,
     "metadata": {},
     "output_type": "execute_result"
    },
    {
     "data": {
      "image/png": "[encoded data removed]",
      "text/plain": [
       "<Figure size 640x480 with 1 Axes>"
      ]
     },
     "metadata": {},
     "output_type": "display_data"
    }
   ],
   "source": [
    "# Violin Plot\n",
    "sns.violinplot(data=df, x=\"diagnosis\",y='radius_mean')"
   ]
  },
  {
   "cell_type": "markdown",
   "metadata": {
    "id": "2FfPmirCUJNz"
   },
   "source": [
    "ปฏิบัติการข้อ 6) จงสร้างภาพนำเสนอการกระจายของค่าข้อมูลตัวแปร area_mean"
   ]
  },
  {
   "cell_type": "code",
   "execution_count": 47,
   "metadata": {
    "id": "l2Vt5-T8UI3H"
   },
   "outputs": [
    {
     "data": {
      "text/plain": [
       "<seaborn.axisgrid.FacetGrid at 0x189c48ba300>"
      ]
     },
     "execution_count": 47,
     "metadata": {},
     "output_type": "execute_result"
    },
    {
     "data": {
      "image/png": "[encoded data removed]",
      "text/plain": [
       "<Figure size 640x480 with 1 Axes>"
      ]
     },
     "metadata": {},
     "output_type": "display_data"
    },
    {
     "data": {
      "image/png": "[encoded data removed]",
      "text/plain": [
       "<Figure size 500x500 with 1 Axes>"
      ]
     },
     "metadata": {},
     "output_type": "display_data"
    }
   ],
   "source": [
    "# Answer here!\n",
    "# Histogram\n",
    "n = df.shape[0]\n",
    "h = 2*IQR_area_mean*(n**(-1/3))\n",
    "sns.histplot(data=df, x=\"area_mean\", binwidth=h)\n",
    "\n",
    "# Density plot\n",
    "bw = 0.786*IQR_area_mean*(n**(-1/5)) \n",
    "sns.displot(data=df, x=\"area_mean\", kind=\"kde\", bw_adjust=bw)"
   ]
  },
  {
   "cell_type": "markdown",
   "metadata": {
    "id": "1ql-5UVxU7BC"
   },
   "source": [
    "ปฏิบัติการข้อ 7) การกระจายของค่าตัวแปร area_mean ในผู้ป่วยที่เป็นโรคมะเร็งเต้านม และผู้ป่วยที่ไม่ได้เป็นโรคมะเร็งเต้านม มีความแตกต่างกันหรือไม่"
   ]
  },
  {
   "cell_type": "code",
   "execution_count": 77,
   "metadata": {},
   "outputs": [
    {
     "data": {
      "text/plain": [
       "array(['M', 'B'], dtype=object)"
      ]
     },
     "execution_count": 77,
     "metadata": {},
     "output_type": "execute_result"
    }
   ],
   "source": [
    "# Target: M - Malignant (เป็น), B - Benign (ไม่เป็น)\n",
    "#df[df[\"diagnosis\"] == \"M\"].area_mean\n",
    "#df[df[\"diagnosis\"] == \"B\"].area_mean\n",
    "df.diagnosis.unique()"
   ]
  },
  {
   "cell_type": "code",
   "execution_count": 79,
   "metadata": {
    "id": "x8fPUFOUU6Qe"
   },
   "outputs": [
    {
     "data": {
      "image/png": "[encoded data removed]",
      "text/plain": [
       "<Figure size 640x480 with 1 Axes>"
      ]
     },
     "metadata": {},
     "output_type": "display_data"
    }
   ],
   "source": [
    "# Answer here!\n",
    "# Histogram with conditioning on other variables\n",
    "n = df.shape[0]\n",
    "h = 2*IQR_area_mean*(n**(-1/3))\n",
    "\n",
    "sns.histplot(data=df, x=\"area_mean\", hue=\"diagnosis\", binwidth=h, kde=False)\n",
    "plt.xlabel(\"area_mean\")\n",
    "plt.ylabel(\"Frequency\")\n",
    "plt.title(\"Histogram of Area Mean by Diagnosis\")\n",
    "plt.show()"
   ]
  },
  {
   "cell_type": "markdown",
   "metadata": {},
   "source": [
    "**จากการ Plot Histogram ของ area_mean ระหว่างผู้ป่วยที่เป็นมะเร็งเต้านมและผู้ป่วยที่ไม่ได้เป็นมะเร็งเต้านม พบว่ามีค่า area_mean ที่มีความแตกต่างกันมาก**"
   ]
  },
  {
   "cell_type": "markdown",
   "metadata": {
    "id": "Bqfg8cZ6VeHv"
   },
   "source": [
    "ปฏิบัติการข้อ 8) จงเขียนฟังก์ชันแสดงค่าผิดปรกติของค่าตัวแปรหนึ่ง (var1) ในแต่ละกลุ่มข้อมูลที่แบ่งแยกด้วยค่าแปรเชิงกลุ่มอีกตัวแปรหนึ่ง (var2)"
   ]
  },
  {
   "cell_type": "code",
   "execution_count": 133,
   "metadata": {},
   "outputs": [],
   "source": [
    "# ดูว่ามีตัวแปรใดที่เป็น Object บ้าง\n",
    "#df.dtypes"
   ]
  },
  {
   "cell_type": "code",
   "execution_count": 143,
   "metadata": {
    "id": "S1HbbBFRW_NU"
   },
   "outputs": [],
   "source": [
    "'''data is a dataframe\n",
    "  var1 is the name of a variable which you want to detect outliers\n",
    "  var2 is the name of a categorical variable'''\n",
    "def display_outliers(data, var1, var2):\n",
    "  # Answer here!\n",
    "    # ทำการเก็บค่าที่เป็นไปได้ของ Categorical Feature (var2)\n",
    "    # malignant = df[df.diagnosis == \"M\"]\n",
    "    # benign = df[df.diagnosis == \"B\"]\n",
    "    for category in data[var2].unique(): # สร้างเป็น for loop เผื่อว่ามีค่าตัวแปรหลายแบบ\n",
    "        subset = data[data[var2] == category]\n",
    "        # คำนวณ IQR ของตัวแปร var1\n",
    "        Q1 = subset[var1].quantile(0.25)\n",
    "        Q3 = subset[var1].quantile(0.75)\n",
    "        IQR = Q3 - Q1\n",
    "        lower_limit = Q1 - 1.5 * IQR\n",
    "        upper_limit = Q3 + 1.5 * IQR\n",
    "\n",
    "        # ใช้โค้ดจากฟังก์ชันที่ทำไว้ (outlier_check) ในข้อ 2)\n",
    "        outliers = subset[(subset[var1] < lower_limit) | (subset[var1] > upper_limit)]\n",
    "        if not outliers.empty:\n",
    "            print(f\"Outliers detected in category '{category}' at indices: {outliers.index.tolist()}\")\n",
    "        else:\n",
    "            print(f\"No outliers detected in category '{category}'\")"
   ]
  },
  {
   "cell_type": "code",
   "execution_count": 147,
   "metadata": {},
   "outputs": [
    {
     "name": "stdout",
     "output_type": "stream",
     "text": [
      "Outliers detected in category 'M' at indices: [180, 212, 352, 461]\n",
      "Outliers detected in category 'B' at indices: [157, 363, 491, 508]\n"
     ]
    }
   ],
   "source": [
    "# ทดลองเรียกใช้ฟังก์ชัน\n",
    "display_outliers(df, \"area_mean\", \"diagnosis\")"
   ]
  },
  {
   "cell_type": "markdown",
   "metadata": {
    "id": "BapxP5a5XnoO"
   },
   "source": [
    "ปฏิบัติการข้อ 9) จงปรับปรุงฟังก์ชันในข้อ 8 ให้สามารถส่งข้อมูล (index ของข้อมูล) ที่มีค่าผิดปรกติกลับเป็นข้อมูลออก"
   ]
  },
  {
   "cell_type": "code",
   "execution_count": 173,
   "metadata": {
    "id": "ZBbLG6ahYCI4"
   },
   "outputs": [],
   "source": [
    "def detect_display_outliers(data, var1, var2):\n",
    "    outliers = {}\n",
    "  # Answer here!\n",
    "    for category in data[var2].unique(): # สร้างเป็น for loop เผื่อว่ามีค่าตัวแปรหลายแบบ\n",
    "        subset = data[data[var2] == category]\n",
    "        # คำนวณ IQR ของตัวแปร var1\n",
    "        Q1 = subset[var1].quantile(0.25)\n",
    "        Q3 = subset[var1].quantile(0.75)\n",
    "        IQR = Q3 - Q1\n",
    "        lower_limit = Q1 - 1.5 * IQR\n",
    "        upper_limit = Q3 + 1.5 * IQR\n",
    "\n",
    "        # ทำการค้นหาค่าที่เป็น outliers\n",
    "        subset_outliers = subset[(subset[var1] < lower_limit) | (subset[var1] > upper_limit)]\n",
    "\n",
    "        # เมื่อพบ outlier ให้เพิ่มเลข index ของข้อมูลที่ผิดปรกติลงในลิสต์ของตัวแปร outliers\n",
    "        if not subset_outliers.empty:\n",
    "            outliers[category] = subset_outliers.index.tolist()\n",
    "        else:\n",
    "            outliers[category] = []  # แม้ว่าไม่พบ outliers ให้เป็นลิสต์ว่าง\n",
    "\n",
    "    return outliers"
   ]
  },
  {
   "cell_type": "markdown",
   "metadata": {
    "id": "CGcwbL4qYKyU"
   },
   "source": [
    "ปฏิบัติการข้อ 10) จงเรียกใช้ฟังก์ชันในข้อ 9 เพื่อตรวจหาค่าของตัวแปร compactness_mean ที่อาจเป็นข้อมูลผิดปรกติในแต่ละกลุ่มตามค่าตัวแปร diagnosis"
   ]
  },
  {
   "cell_type": "code",
   "execution_count": 177,
   "metadata": {
    "id": "_zD0aKppYl_3"
   },
   "outputs": [
    {
     "name": "stdout",
     "output_type": "stream",
     "text": [
      "Outlier indices for Malignant (M): [0, 3, 78, 108, 122, 181, 258, 567]\n",
      "Outlier indices for Benign (B): [112, 128, 290, 318, 376, 421, 504, 505, 518]\n"
     ]
    }
   ],
   "source": [
    "# Answer here!\n",
    "outlier = detect_display_outliers(df, \"compactness_mean\", \"diagnosis\")\n",
    "# แสดงผลลัพธ์ ตำแหน่ง index ที่พบ outlier ตามกลุ่มของ diagnosis\n",
    "print(\"Outlier indices for Malignant (M):\", outlier.get(\"M\", []))\n",
    "print(\"Outlier indices for Benign (B):\", outlier.get(\"B\", []))"
   ]
  }
 ],
 "metadata": {
  "colab": {
   "collapsed_sections": [],
   "name": "Lab_08_XXXXXXXXX.ipynb",
   "provenance": []
  },
  "kernelspec": {
   "display_name": "Python 3 (ipykernel)",
   "language": "python",
   "name": "python3"
  },
  "language_info": {
   "codemirror_mode": {
    "name": "ipython",
    "version": 3
   },
   "file_extension": ".py",
   "mimetype": "text/x-python",
   "name": "python",
   "nbconvert_exporter": "python",
   "pygments_lexer": "ipython3",
   "version": "3.12.4"
  }
 },
 "nbformat": 4,
 "nbformat_minor": 4
}
